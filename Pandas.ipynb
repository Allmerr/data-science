{
 "cells": [
  {
   "cell_type": "code",
   "execution_count": 2,
   "id": "59b0660a-46f6-4598-98be-1d27e1b7c239",
   "metadata": {},
   "outputs": [],
   "source": [
    "import pandas as pd"
   ]
  },
  {
   "cell_type": "code",
   "execution_count": 4,
   "id": "7af81c7a-2f5d-4c55-ab61-fa599cef612a",
   "metadata": {},
   "outputs": [
    {
     "name": "stdout",
     "output_type": "stream",
     "text": [
      "0    10\n",
      "1    20\n",
      "2    30\n",
      "dtype: int64\n"
     ]
    }
   ],
   "source": [
    "s = pd.Series([10,20,30])\n",
    "print(s)"
   ]
  },
  {
   "cell_type": "code",
   "execution_count": 7,
   "id": "da21d5c4-6818-46fc-a2b1-01d61f8afb5c",
   "metadata": {},
   "outputs": [
    {
     "name": "stdout",
     "output_type": "stream",
     "text": [
      "     nama grade\n",
      "0   Kevin     A\n",
      "1  Syamil     B\n",
      "2    Zaka     B\n"
     ]
    }
   ],
   "source": [
    "data = {\n",
    "    'nama' : ['Kevin', 'Syamil', 'Zaka'],\n",
    "    'grade' : ['A', 'B', 'B']\n",
    "}\n",
    "\n",
    "df = pd.DataFrame(data)\n",
    "print(df)"
   ]
  },
  {
   "cell_type": "code",
   "execution_count": 63,
   "id": "77ee735e-a05c-490c-9dcf-0b35d50aa4db",
   "metadata": {
    "jupyter": {
     "source_hidden": true
    }
   },
   "outputs": [
    {
     "name": "stdout",
     "output_type": "stream",
     "text": [
      "   Identifier Access code Recovery code First name Last name   Department  \\\n",
      "0        9012      12se74        rb9012     Rachel    Booker        Sales   \n",
      "1        2070      04ap67        lg2070      Laura      Grey        Depot   \n",
      "2        4081      30no86        cj4081      Craig   Johnson        Depot   \n",
      "3        9346      14ju73        mj9346       Mary   Jenkins  Engineering   \n",
      "4        5079      09ja61        js5079      Jamie     Smith  Engineering   \n",
      "\n",
      "     Location  \n",
      "0  Manchester  \n",
      "1      London  \n",
      "2      London  \n",
      "3  Manchester  \n",
      "4  Manchester  \n"
     ]
    }
   ],
   "source": [
    "df = pd.read_csv('pw.csv', delimiter=';')\n",
    "print(df)\n",
    "# print(df[['Location', 'Access code']])\n",
    "# print(df.head())\n",
    "# print(df.tail(2))\n",
    "# print(df.info())\n",
    "# print(df.describe())"
   ]
  },
  {
   "cell_type": "code",
   "execution_count": 41,
   "id": "6909a718-8af1-4c37-8658-65b69ff7b320",
   "metadata": {
    "collapsed": true,
    "jupyter": {
     "outputs_hidden": true,
     "source_hidden": true
    }
   },
   "outputs": [
    {
     "name": "stdout",
     "output_type": "stream",
     "text": [
      "  Access code Recovery code\n",
      "0      12se74        rb9012\n",
      "1      04ap67        lg2070\n",
      "2      30no86        cj4081\n",
      "3      14ju73        mj9346\n",
      "4      09ja61        js5079\n"
     ]
    }
   ],
   "source": [
    "print(df[['Access code', 'Recovery code']])"
   ]
  },
  {
   "cell_type": "code",
   "execution_count": 45,
   "id": "b008e9af-e291-48f1-a699-3e956233ca00",
   "metadata": {
    "collapsed": true,
    "jupyter": {
     "outputs_hidden": true,
     "source_hidden": true
    }
   },
   "outputs": [
    {
     "name": "stdout",
     "output_type": "stream",
     "text": [
      "   Identifier Access code Recovery code First name Last name Department  \\\n",
      "0        9012      12se74        rb9012     Rachel    Booker      Sales   \n",
      "\n",
      "     Location  \n",
      "0  Manchester  \n"
     ]
    }
   ],
   "source": [
    "print(df[0:1])"
   ]
  },
  {
   "cell_type": "code",
   "execution_count": 81,
   "id": "a61b1235-77dc-46f7-8bbb-4ec3206d262d",
   "metadata": {},
   "outputs": [
    {
     "name": "stdout",
     "output_type": "stream",
     "text": [
      "     Access code Recovery code\n",
      "2070      04ap67        lg2070\n",
      "4081      30no86        cj4081\n"
     ]
    }
   ],
   "source": [
    "df.index = ['9012', '2070', '4081', '9346', '5079']\n",
    "# print(df.loc['5079'])\n",
    "# print(df.iloc[[4]])\n",
    "# print(df.loc[['5079', '9012']])\n",
    "# print(df.loc[['5079', '9012'],['Access code', 'Location']])\n",
    "# print(df.iloc[[4,0],[1,6]])\n",
    "# print(df.loc[:, 'Department'])\n",
    "# print(df.iloc[:, 1:3])\n",
    "# print(df.loc[:, ['Department', 'Location']])\n",
    "print(df.iloc[1:3, 1:3])\n"
   ]
  },
  {
   "cell_type": "code",
   "execution_count": 11,
   "id": "c62bca54-e87d-4760-ab19-2354b9787846",
   "metadata": {},
   "outputs": [
    {
     "name": "stdout",
     "output_type": "stream",
     "text": [
      "    Nama  Usia  Suhu\n",
      "0   Andi    22  36.5\n",
      "1   Budi    24  37.8\n",
      "2  Citra    20  38.1\n"
     ]
    }
   ],
   "source": [
    "df = pd.read_csv('data.csv')\n",
    "print(df)"
   ]
  }
 ],
 "metadata": {
  "kernelspec": {
   "display_name": "Python 3 (ipykernel)",
   "language": "python",
   "name": "python3"
  },
  "language_info": {
   "codemirror_mode": {
    "name": "ipython",
    "version": 3
   },
   "file_extension": ".py",
   "mimetype": "text/x-python",
   "name": "python",
   "nbconvert_exporter": "python",
   "pygments_lexer": "ipython3",
   "version": "3.12.10"
  }
 },
 "nbformat": 4,
 "nbformat_minor": 5
}

{
 "cells": [
  {
   "cell_type": "code",
   "execution_count": 1,
   "id": "9ef027a9-b3db-4307-b0bd-600b36cb205f",
   "metadata": {},
   "outputs": [],
   "source": [
    "import numpy as np"
   ]
  },
  {
   "cell_type": "code",
   "execution_count": 24,
   "id": "d55bdc4e-93a4-46dc-a705-b0e2dedc7106",
   "metadata": {},
   "outputs": [
    {
     "name": "stdout",
     "output_type": "stream",
     "text": [
      "[[0. 0. 0.]\n",
      " [0. 0. 0.]]\n"
     ]
    }
   ],
   "source": [
    "a = np.zeros((2,3))\n",
    "print(a)"
   ]
  },
  {
   "cell_type": "code",
   "execution_count": 27,
   "id": "b5a67f2c-3163-4654-b8a2-31a5981f8bf2",
   "metadata": {},
   "outputs": [
    {
     "name": "stdout",
     "output_type": "stream",
     "text": [
      "[[1. 1. 1.]\n",
      " [1. 1. 1.]]\n"
     ]
    }
   ],
   "source": [
    "a = np.ones((2,3))\n",
    "print(a)"
   ]
  },
  {
   "cell_type": "code",
   "execution_count": 31,
   "id": "4fafe444-bd68-44b1-8006-ab0a850be5cf",
   "metadata": {},
   "outputs": [
    {
     "name": "stdout",
     "output_type": "stream",
     "text": [
      "[[1. 0. 0.]\n",
      " [0. 1. 0.]\n",
      " [0. 0. 1.]]\n"
     ]
    }
   ],
   "source": [
    "a = np.eye(3)\n",
    "print(a)"
   ]
  },
  {
   "cell_type": "code",
   "execution_count": 36,
   "id": "e9447ee7-3ff9-42e6-856b-12ab3a9c0b9d",
   "metadata": {},
   "outputs": [
    {
     "name": "stdout",
     "output_type": "stream",
     "text": [
      "[0 3 6 9]\n"
     ]
    }
   ],
   "source": [
    "a = np.arange(0,10,3)\n",
    "print(a)"
   ]
  },
  {
   "cell_type": "code",
   "execution_count": 39,
   "id": "e9431f11-b766-4e34-a500-addf5b4951d4",
   "metadata": {},
   "outputs": [
    {
     "name": "stdout",
     "output_type": "stream",
     "text": [
      "[   0    1    4    9   16   25   36   49   64   81  100  121  144  169\n",
      "  196  225  256  289  324  361  400  441  484  529  576  625  676  729\n",
      "  784  841  900  961 1024 1089 1156 1225 1296 1369 1444 1521 1600 1681\n",
      " 1764 1849 1936 2025 2116 2209 2304 2401 2500 2601 2704 2809 2916 3025\n",
      " 3136 3249 3364 3481 3600 3721 3844 3969 4096 4225 4356 4489 4624 4761\n",
      " 4900 5041 5184 5329 5476 5625 5776 5929 6084 6241 6400 6561 6724 6889\n",
      " 7056 7225 7396 7569 7744 7921 8100 8281 8464 8649 8836 9025 9216 9409\n",
      " 9604 9801]\n"
     ]
    }
   ],
   "source": [
    "a = np.arange(100)\n",
    "b = a ** 2\n",
    "print(b)"
   ]
  },
  {
   "cell_type": "code",
   "execution_count": 47,
   "id": "a2d4bc40-9126-4b86-b88d-43ba81ea627c",
   "metadata": {},
   "outputs": [
    {
     "name": "stdout",
     "output_type": "stream",
     "text": [
      "[ 1  2  3  4  5  6  7  8  9 10]\n",
      "2.8722813232690143\n",
      "[ 2  4  6  8 10]\n"
     ]
    }
   ],
   "source": [
    "# 1. Buat array dari 1 sampai 10\n",
    "a = np.arange(1,11)\n",
    "print(a)\n",
    "\n",
    "# 2. Hitung rata-rata dan standar deviasi dari array tsb\n",
    "print(np.std(a))\n",
    "\n",
    "# 3. Ambil elemen genap dari array tsb\n",
    "print(a[a % 2 == 0])"
   ]
  },
  {
   "cell_type": "code",
   "execution_count": 53,
   "id": "b0e326fc-1754-4768-9f95-d25e12f47e3a",
   "metadata": {},
   "outputs": [
    {
     "name": "stdout",
     "output_type": "stream",
     "text": [
      "(2, 3)\n",
      "1\n",
      "6\n",
      "[1 2 3]\n",
      "[2 5]\n"
     ]
    }
   ],
   "source": [
    "m = np.array([[1,2,3],\n",
    "              [4,5,6]])\n",
    "print(m.shape)\n",
    "print(m[0,0])\n",
    "print(m[1,2])\n",
    "print(m[0])\n",
    "print(m[:, 1])"
   ]
  },
  {
   "cell_type": "code",
   "execution_count": 62,
   "id": "1b87f957-f994-4028-bdbd-e90045c75f48",
   "metadata": {},
   "outputs": [
    {
     "name": "stdout",
     "output_type": "stream",
     "text": [
      "[[ 6  8]\n",
      " [10 12]]\n",
      "[[-4 -4]\n",
      " [-4 -4]]\n",
      "[[ 5 12]\n",
      " [21 32]]\n",
      "[[0.2        0.33333333]\n",
      " [0.42857143 0.5       ]]\n"
     ]
    }
   ],
   "source": [
    "a = np.array([[1,2],\n",
    "              [3,4]])\n",
    "\n",
    "b = np.array([[5,6],\n",
    "              [7,8]])\n",
    "\n",
    "print(a + b)\n",
    "print(a - b)\n",
    "print(a * b)\n",
    "print(a / b)"
   ]
  },
  {
   "cell_type": "code",
   "execution_count": 68,
   "id": "e9bd9079-dc65-497a-a00d-3d4b29648cf0",
   "metadata": {},
   "outputs": [
    {
     "name": "stdout",
     "output_type": "stream",
     "text": [
      "[[1 2]\n",
      " [3 4]]\n",
      "[[5 6]\n",
      " [7 8]]\n",
      "[[19 22]\n",
      " [43 50]]\n"
     ]
    }
   ],
   "source": [
    "print(a)\n",
    "print(b)\n",
    "print(np.dot(a,b))\n",
    "# print(a.T)"
   ]
  },
  {
   "cell_type": "code",
   "execution_count": 72,
   "id": "03bd9e03-2318-41f6-aadc-94ed999f3267",
   "metadata": {},
   "outputs": [
    {
     "name": "stdout",
     "output_type": "stream",
     "text": [
      "[[11 22 33]\n",
      " [14 25 36]]\n"
     ]
    }
   ],
   "source": [
    "a = np.array([[1, 2, 3],\n",
    "              [4, 5, 6]])\n",
    "\n",
    "b = np.array([10, 20, 30])   # akan ditambahkan ke tiap baris\n",
    "print(a + b)\n"
   ]
  },
  {
   "cell_type": "code",
   "execution_count": 78,
   "id": "5ea2827a-8401-4932-9af1-54b3e870f851",
   "metadata": {},
   "outputs": [
    {
     "name": "stdout",
     "output_type": "stream",
     "text": [
      "[[1 2 3]\n",
      " [4 5 6]\n",
      " [7 8 9]]\n",
      "[[ 2  4  6]\n",
      " [ 8 10 12]\n",
      " [14 16 18]]\n",
      "12\n"
     ]
    }
   ],
   "source": [
    "# 1. Buat matriks 3x3 dari angka 1 sampai 9\n",
    "a = np.arange(1,10).reshape(3,3)\n",
    "print(a)\n",
    "# 2. Kalikan setiap elemen dengan 2\n",
    "a = a * 2\n",
    "print(a)\n",
    "# 3. Ambil baris ke-2 dan kolom ke-3\n",
    "print(a[1,2])\n",
    "# 4. Hitung determinan dari matriks itu"
   ]
  },
  {
   "cell_type": "code",
   "execution_count": null,
   "id": "a7fc5499-70d3-4fd5-8cc4-a90f2218e822",
   "metadata": {},
   "outputs": [],
   "source": []
  }
 ],
 "metadata": {
  "kernelspec": {
   "display_name": "Python 3 (ipykernel)",
   "language": "python",
   "name": "python3"
  },
  "language_info": {
   "codemirror_mode": {
    "name": "ipython",
    "version": 3
   },
   "file_extension": ".py",
   "mimetype": "text/x-python",
   "name": "python",
   "nbconvert_exporter": "python",
   "pygments_lexer": "ipython3",
   "version": "3.12.10"
  }
 },
 "nbformat": 4,
 "nbformat_minor": 5
}
